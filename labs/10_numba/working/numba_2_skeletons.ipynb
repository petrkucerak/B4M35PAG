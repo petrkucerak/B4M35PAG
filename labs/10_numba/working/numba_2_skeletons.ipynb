{
  "nbformat": 4,
  "nbformat_minor": 0,
  "metadata": {
    "colab": {
      "provenance": []
    },
    "kernelspec": {
      "name": "python3",
      "display_name": "Python 3"
    },
    "language_info": {
      "name": "python"
    }
  },
  "cells": [
    {
      "cell_type": "code",
      "execution_count": null,
      "metadata": {
        "id": "E5tFzyDVQbRa"
      },
      "outputs": [],
      "source": [
        "!pip install numba"
      ]
    },
    {
      "cell_type": "markdown",
      "source": [
        "Computation of π:"
      ],
      "metadata": {
        "id": "6DEAg4C0E9LX"
      }
    },
    {
      "cell_type": "code",
      "source": [
        "import numpy as np\n",
        "from numba import njit, prange, set_parallel_chunksize\n",
        "import time\n",
        "\n",
        "# Sequential function to estimate π\n",
        "def monte_carlo_pi_sequential(n):\n",
        "    count = 0\n",
        "    for _ in range(n):\n",
        "        x, y = np.random.rand(), np.random.rand()\n",
        "        if x**2 + y**2 <= 1:\n",
        "            count += 1\n",
        "    return 4.0 * count / n\n",
        "\n",
        "# Estimate π using Automatic Parallelization\n",
        "def monte_carlo_pi_auto_parallel(n):\n",
        "    ### --- TO DO --- ###\n",
        "    return 4\n",
        "\n",
        "# Estimate π with controlled chunk size\n",
        "def monte_carlo_pi_explicit_chunk(n, chunk_size):\n",
        "    ### --- TO DO --- ###\n",
        "    return 4\n",
        "\n",
        "\n",
        "# Set the number of Monte Carlo samples\n",
        "num_samples = 5000000\n",
        "\n",
        "# Time the Sequential version\n",
        "start_time = time.time()\n",
        "result_seq = monte_carlo_pi_sequential(num_samples)\n",
        "sequential_time = round(time.time() - start_time, 3)\n",
        "print(f\"Sequential Time: {sequential_time} seconds; Estimated π = {result_seq}\")\n",
        "\n",
        "# Time the Auto Parallel version\n",
        "start_time = time.time()\n",
        "result_par = monte_carlo_pi_auto_parallel(num_samples)\n",
        "auto_parallel_time = round(time.time() - start_time, 3)\n",
        "print(f\"Auto Parallel Time: {auto_parallel_time} seconds; Estimated π = {result_par}\")\n",
        "\n",
        "# Time the Explicit Chunk version\n",
        "start_time = time.time()\n",
        "result_chunk = monte_carlo_pi_explicit_chunk(num_samples, 0)\n",
        "explicit_chunk_time = round(time.time() - start_time, 3)\n",
        "print(f\"Explicit Chunk Time: {explicit_chunk_time} seconds; Estimated π = {result_chunk}\")\n",
        "\n",
        "# diagnostics\n",
        "### --- TO DO --- ###"
      ],
      "metadata": {
        "id": "Mlol-2omE_hb"
      },
      "execution_count": null,
      "outputs": []
    }
  ]
}